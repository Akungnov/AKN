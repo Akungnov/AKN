{
  "nbformat": 4,
  "nbformat_minor": 0,
  "metadata": {
    "colab": {
      "provenance": []
    },
    "kernelspec": {
      "name": "python3",
      "display_name": "Python 3"
    },
    "language_info": {
      "name": "python"
    }
  },
  "cells": [
    {
      "cell_type": "code",
      "execution_count": 1,
      "metadata": {
        "id": "JDeLTw1vVNsq"
      },
      "outputs": [],
      "source": []
    },
    {
      "cell_type": "markdown",
      "source": [
        "###1) Build a simple class that does nothing"
      ],
      "metadata": {
        "id": "lM_sfvgAV0jc"
      }
    },
    {
      "cell_type": "code",
      "source": [
        "class Rocket():\n",
        "  pass"
      ],
      "metadata": {
        "id": "Qtf9vEAMWAOL"
      },
      "execution_count": 2,
      "outputs": []
    },
    {
      "cell_type": "markdown",
      "source": [
        "###2) add atrributes to this class\n",
        "\n",
        "* add x and y coordinates and set both of them 0"
      ],
      "metadata": {
        "id": "dXv8kho3WXg8"
      }
    },
    {
      "cell_type": "code",
      "source": [
        "# Building a class with some atrributes\n",
        "class Rocket():\n",
        "   #use special method in python in initialize the attributes from this class\n",
        "  def __init__(self):\n",
        "    self.x=0\n",
        "    self.y=0"
      ],
      "metadata": {
        "id": "CmGksfivWq10"
      },
      "execution_count": 16,
      "outputs": []
    },
    {
      "cell_type": "code",
      "source": [
        "# create an object of the class rocket\n",
        "rocket1 =Rocket()"
      ],
      "metadata": {
        "id": "p9ai40ksX0Ea"
      },
      "execution_count": 17,
      "outputs": []
    },
    {
      "cell_type": "code",
      "source": [
        "#extraact the values of x and y for that rocket1\n",
        "print(f'X cordinate for rocket1:- {rocket1.x}')\n",
        "print(f'X cordinate for rocket1:- {rocket1.y}')"
      ],
      "metadata": {
        "colab": {
          "base_uri": "https://localhost:8080/"
        },
        "id": "5F7a01jmYIit",
        "outputId": "9b244830-05c8-409c-fadd-88e0c092834c"
      },
      "execution_count": 19,
      "outputs": [
        {
          "output_type": "stream",
          "name": "stdout",
          "text": [
            "X cordinate for rocket1:- 0\n",
            "X cordinate for rocket1:- 0\n"
          ]
        }
      ]
    },
    {
      "cell_type": "markdown",
      "source": [
        "###3) add a method that will allow rocket to move up"
      ],
      "metadata": {
        "id": "3GYHxYN_aDML"
      }
    },
    {
      "cell_type": "code",
      "source": [
        "# Building a class with some atrributes\n",
        "class Rocket():\n",
        "   #use special method in python in initialize the attributes from this class\n",
        "  def __init__(self):\n",
        "    self.x=0\n",
        "    self.y=0\n",
        "\n",
        "    #add a method that willto make rocket to move up\n",
        "  def move_up(self):\n",
        "    self.y+=1  #self.y = self.y +1"
      ],
      "metadata": {
        "id": "s5b6NRB_aT8H"
      },
      "execution_count": 26,
      "outputs": []
    },
    {
      "cell_type": "code",
      "source": [
        "#make orion rocket and move up by two units\n",
        "orion = Rocket()\n",
        "print(f'Current Position of Orion:- {(orion.x, orion.y)}')\n",
        "\n",
        "#move orion by up one unit\n",
        "orion.move_up()\n",
        "print(f'Orion update Position of Orion:- {(orion.x, orion.y)}')\n",
        "#move orion by one more unit\n",
        "orion.move_up()\n",
        "print(f'Orion update Position of Orion:- {(orion.x, orion.y)}')"
      ],
      "metadata": {
        "colab": {
          "base_uri": "https://localhost:8080/"
        },
        "id": "lxartGlhaqba",
        "outputId": "c6111dd9-aaf5-413f-e66e-59a20ef3d7da"
      },
      "execution_count": 28,
      "outputs": [
        {
          "output_type": "stream",
          "name": "stdout",
          "text": [
            "Current Position of Orion:- (0, 0)\n",
            "Orion update Position of Orion:- (0, 1)\n",
            "Orion update Position of Orion:- (0, 2)\n"
          ]
        }
      ]
    },
    {
      "cell_type": "markdown",
      "source": [
        "#### 5) Costomize the existing Rocket Class"
      ],
      "metadata": {
        "id": "57VH1pnDdgQ5"
      }
    },
    {
      "cell_type": "code",
      "source": [
        "# Building a class with some atrributes\n",
        "class Rocket():\n",
        "  #use special method in python in initialize the attributes from this class\n",
        "  def __init__(self, x=0, y=0):\n",
        "    self.x=x\n",
        "    self.y=y\n",
        "\n",
        "  #add a method that willto make rocket  move in either of up, down, left, and right with whatever unit\n",
        "  def move_rocket(self, x_increment, y_increment):\n",
        "    self.x += x_increment\n",
        "    self.y += y_increment #self.y = self.y +1"
      ],
      "metadata": {
        "id": "H13DOPNbdprz"
      },
      "execution_count": 41,
      "outputs": []
    },
    {
      "cell_type": "code",
      "source": [
        "rocket2= Rocket(10,0)\n",
        "print(f'{rocket2.x, rocket2.y}')"
      ],
      "metadata": {
        "colab": {
          "base_uri": "https://localhost:8080/"
        },
        "id": "qidvDsQ0eGj4",
        "outputId": "64b8f6f4-a5be-41d2-95ac-b67e924e4320"
      },
      "execution_count": 44,
      "outputs": [
        {
          "output_type": "stream",
          "name": "stdout",
          "text": [
            "(10, 0)\n"
          ]
        }
      ]
    },
    {
      "cell_type": "code",
      "source": [
        "rocket3=Rocket()\n",
        "print(f'{rocket3.x, rocket3.y}')"
      ],
      "metadata": {
        "colab": {
          "base_uri": "https://localhost:8080/"
        },
        "id": "ypiDMSN9eZKm",
        "outputId": "0f36b329-7f87-42a1-a59e-15a8552b3bce"
      },
      "execution_count": 45,
      "outputs": [
        {
          "output_type": "stream",
          "name": "stdout",
          "text": [
            "(0, 0)\n"
          ]
        }
      ]
    },
    {
      "cell_type": "code",
      "source": [
        "rocket2.move_rocket (0,100)\n",
        "print(f'{rocket2.x, rocket2.y}')"
      ],
      "metadata": {
        "colab": {
          "base_uri": "https://localhost:8080/"
        },
        "id": "WVHpK6IMf7yR",
        "outputId": "d060179a-6f58-4eb0-d251-66d64204704d"
      },
      "execution_count": 46,
      "outputs": [
        {
          "output_type": "stream",
          "name": "stdout",
          "text": [
            "(10, 100)\n"
          ]
        }
      ]
    },
    {
      "cell_type": "code",
      "source": [
        "rocket3.move_rocket(-10,0)\n",
        "print(f'{rocket3.x, rocket3.y}')"
      ],
      "metadata": {
        "colab": {
          "base_uri": "https://localhost:8080/"
        },
        "id": "ZqAyEWVNhdj5",
        "outputId": "9277ae17-bdaf-4186-c823-9af452a1858b"
      },
      "execution_count": 47,
      "outputs": [
        {
          "output_type": "stream",
          "name": "stdout",
          "text": [
            "(-10, 0)\n"
          ]
        }
      ]
    },
    {
      "cell_type": "markdown",
      "source": [
        "### 6) add another nethod to rocket"
      ],
      "metadata": {
        "id": "8Ren63KoiU2e"
      }
    },
    {
      "cell_type": "code",
      "source": [
        "# Building a class with some atrributes\n",
        "class Rocket():\n",
        "  #use special method in python in initialize the attributes from this class\n",
        "  def __init__(self, x=0, y=0):\n",
        "    self.x=x\n",
        "    self.y=y\n",
        "\n",
        "  #add a method that willto make rocket  move in either of up, down, left, and right with whatever unit\n",
        "  def move_rocket(self, x_increment, y_increment):\n",
        "    self.x += x_increment\n",
        "    self.y += y_increment #self.y = self.y +1\n",
        "\n",
        "  #calculate eucledian distance beetweb two rockets\n",
        "  def get_distance(self, other_rocket):\n",
        "    x_diff = self.x - other_rocket.x\n",
        "    y_diff = self.y - other_rocket.y\n",
        "    distance = (x_diff**2 + y_diff**2)**0.5\n",
        "    return round (distance,3)"
      ],
      "metadata": {
        "id": "DuESrN4iieOk"
      },
      "execution_count": 51,
      "outputs": []
    },
    {
      "cell_type": "code",
      "source": [
        "rocket4 = Rocket(-10,0)\n",
        "rocket5 = Rocket(0,0)\n",
        "print(f'{rocket4.x, rocket4.y}')\n",
        "print(f'{rocket5.x, rocket5.y}')\n"
      ],
      "metadata": {
        "colab": {
          "base_uri": "https://localhost:8080/"
        },
        "id": "QHUObpj6j0Wb",
        "outputId": "303dfdae-c000-4b95-a90e-24588052fba2"
      },
      "execution_count": 61,
      "outputs": [
        {
          "output_type": "stream",
          "name": "stdout",
          "text": [
            "(-10, 0)\n",
            "(0, 0)\n"
          ]
        }
      ]
    },
    {
      "cell_type": "code",
      "source": [
        "#distance of rocket4 wrt rocket5\n",
        "distance_45=rocket5.get_distance(rocket4)\n",
        "print(f'The Distance between rocket4 wrtrocket5:- {distance_45} (3dp)')"
      ],
      "metadata": {
        "colab": {
          "base_uri": "https://localhost:8080/"
        },
        "id": "YQBEjjWQkN7t",
        "outputId": "f93fe570-c3a4-4b4f-be55-c0823b62c789"
      },
      "execution_count": 62,
      "outputs": [
        {
          "output_type": "stream",
          "name": "stdout",
          "text": [
            "The Distance between rocket4 wrtrocket5:- 10.0 (3dp)\n"
          ]
        }
      ]
    },
    {
      "cell_type": "code",
      "source": [
        "# move rocket4 to(-15, 10)\n",
        "rocket4.move_rocket(-5,10)\n",
        "\n",
        "#move rocket5 to (0, 15)\n",
        "rocket5.move_rocket(0,15)\n",
        "\n",
        "\n",
        "#get the new location\n",
        "print(f'{rocket4.x, rocket4.y}')\n",
        "print(f'{rocket5.x, rocket5.y}')"
      ],
      "metadata": {
        "colab": {
          "base_uri": "https://localhost:8080/"
        },
        "id": "Pq0y4AeTk_za",
        "outputId": "ea7ae280-f9be-43f7-cde2-4ab7420ac7ac"
      },
      "execution_count": 63,
      "outputs": [
        {
          "output_type": "stream",
          "name": "stdout",
          "text": [
            "(-15, 10)\n",
            "(0, 15)\n"
          ]
        }
      ]
    }
  ]
}