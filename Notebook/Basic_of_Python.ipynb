{
  "nbformat": 4,
  "nbformat_minor": 0,
  "metadata": {
    "colab": {
      "provenance": []
    },
    "kernelspec": {
      "name": "python3",
      "display_name": "Python 3"
    },
    "language_info": {
      "name": "python"
    }
  },
  "cells": [
    {
      "cell_type": "markdown",
      "source": [
        "#Python basic Astronomy"
      ],
      "metadata": {
        "id": "psUoAe4s30n4"
      }
    },
    {
      "cell_type": "code",
      "source": [
        "#My First code in python\n",
        "print(\"Hello World\")"
      ],
      "metadata": {
        "colab": {
          "base_uri": "https://localhost:8080/"
        },
        "id": "JpXektaZ358E",
        "outputId": "07406597-3dec-4caf-de91-9dd085639fe7"
      },
      "execution_count": null,
      "outputs": [
        {
          "output_type": "stream",
          "name": "stdout",
          "text": [
            "Hello World\n"
          ]
        }
      ]
    },
    {
      "cell_type": "code",
      "source": [
        "x=4\n",
        "y=5\n",
        "print(x+x+y+x+y)"
      ],
      "metadata": {
        "colab": {
          "base_uri": "https://localhost:8080/"
        },
        "id": "hL11ls2Fu6ME",
        "outputId": "c56f0a90-d209-4412-f938-b93597f40ace"
      },
      "execution_count": null,
      "outputs": [
        {
          "output_type": "stream",
          "name": "stdout",
          "text": [
            "22\n"
          ]
        }
      ]
    },
    {
      "cell_type": "code",
      "source": [
        "#create name planet\n",
        "planet_name= \"Venus\""
      ],
      "metadata": {
        "id": "3wbbfmxIvUEz"
      },
      "execution_count": null,
      "outputs": []
    },
    {
      "cell_type": "code",
      "source": [
        "print(planet_name)"
      ],
      "metadata": {
        "colab": {
          "base_uri": "https://localhost:8080/"
        },
        "id": "OJD9mQyRvtvg",
        "outputId": "c99cb627-59c5-4d8c-988c-513b53a528ca"
      },
      "execution_count": null,
      "outputs": [
        {
          "output_type": "stream",
          "name": "stdout",
          "text": [
            "Venus\n"
          ]
        }
      ]
    },
    {
      "cell_type": "markdown",
      "source": [
        "F\"Strings"
      ],
      "metadata": {
        "id": "P_qbbFxwxtt5"
      }
    },
    {
      "cell_type": "code",
      "source": [
        "user_fav_number = \"6\"\n",
        "print(user_fav_number)"
      ],
      "metadata": {
        "id": "jFfoBmLjxysl",
        "colab": {
          "base_uri": "https://localhost:8080/"
        },
        "outputId": "f5f16b79-84f7-4f2a-cce4-09424dab45a7"
      },
      "execution_count": null,
      "outputs": [
        {
          "output_type": "stream",
          "name": "stdout",
          "text": [
            "6\n"
          ]
        }
      ]
    },
    {
      "cell_type": "code",
      "source": [
        "print(type(user_fav_number))"
      ],
      "metadata": {
        "colab": {
          "base_uri": "https://localhost:8080/"
        },
        "id": "7KjzsoR2AH1l",
        "outputId": "bc2c9c3c-8d56-4594-93d8-efe039f10470"
      },
      "execution_count": null,
      "outputs": [
        {
          "output_type": "stream",
          "name": "stdout",
          "text": [
            "<class 'str'>\n"
          ]
        }
      ]
    },
    {
      "cell_type": "code",
      "source": [
        "str_to_int= int(user_fav_number)\n",
        "print(str_to_int)\n",
        "print(type(str_to_int))\n",
        "\n",
        "str_to_float= float(user_fav_number)\n",
        "print(str_to_float)\n",
        "print(type(str_to_float))"
      ],
      "metadata": {
        "colab": {
          "base_uri": "https://localhost:8080/"
        },
        "id": "lFUKzTRtATTz",
        "outputId": "a03fb76b-b3a5-4f50-c728-4c5028406cd4"
      },
      "execution_count": null,
      "outputs": [
        {
          "output_type": "stream",
          "name": "stdout",
          "text": [
            "6\n",
            "<class 'int'>\n",
            "6.0\n",
            "<class 'float'>\n"
          ]
        }
      ]
    },
    {
      "cell_type": "code",
      "source": [
        "n1= int(input(\"Masukkan Int pertama: \"))\n",
        "n2 =int(input(\"Masukkan Int Kedua: \"))\n",
        "print (f\"Jumlah dari {n1} dan {n2} adalah {n1+n2}\")"
      ],
      "metadata": {
        "colab": {
          "base_uri": "https://localhost:8080/"
        },
        "id": "eZt4q6EeC2Hg",
        "outputId": "876a1310-57cc-40bd-eeab-9d8c7ea20868"
      },
      "execution_count": null,
      "outputs": [
        {
          "output_type": "stream",
          "name": "stdout",
          "text": [
            "Masukkan Int pertama: 6\n",
            "Masukkan Int Kedua: 4\n",
            "Jumlah dari 6 dan 4 adalah 10\n"
          ]
        }
      ]
    },
    {
      "cell_type": "markdown",
      "source": [
        "Control Flow"
      ],
      "metadata": {
        "id": "nDxf1CBaEhHP"
      }
    },
    {
      "cell_type": "code",
      "source": [
        "# Range (start, end, skip)\n",
        "range(-5,20)"
      ],
      "metadata": {
        "colab": {
          "base_uri": "https://localhost:8080/"
        },
        "id": "rajHpe-gFgkU",
        "outputId": "2f574bb7-4b52-4d96-def5-5304e3c0e09f"
      },
      "execution_count": null,
      "outputs": [
        {
          "output_type": "execute_result",
          "data": {
            "text/plain": [
              "range(-5, 20)"
            ]
          },
          "metadata": {},
          "execution_count": 16
        }
      ]
    },
    {
      "cell_type": "code",
      "source": [
        "#For loop\n",
        "for index in range (1, 10, 2):\n",
        "    print(index)"
      ],
      "metadata": {
        "colab": {
          "base_uri": "https://localhost:8080/"
        },
        "id": "Wu6hRPtJEnmA",
        "outputId": "0190dd2f-7268-4cd2-d5ab-6cdfbaddb131"
      },
      "execution_count": null,
      "outputs": [
        {
          "output_type": "stream",
          "name": "stdout",
          "text": [
            "1\n",
            "3\n",
            "5\n",
            "7\n",
            "9\n"
          ]
        }
      ]
    },
    {
      "cell_type": "code",
      "source": [
        "#while loop\n",
        "ct = 0\n",
        "while True:\n",
        "    obj = input(f\"Masukkan objek favorit {ct+1}:-\")\n",
        "    ct =+ 1 #ct = ct+2\n",
        "    if obj.lower() == \"quit\":\n",
        "       break"
      ],
      "metadata": {
        "colab": {
          "base_uri": "https://localhost:8080/"
        },
        "id": "MXrZXHN9G1Ds",
        "outputId": "0cd4d133-09d6-41f6-b751-ec6484b4db7a"
      },
      "execution_count": null,
      "outputs": [
        {
          "name": "stdout",
          "output_type": "stream",
          "text": [
            "Masukkan objek favorit 1:-Bumi\n",
            "Masukkan objek favorit 2:-Hutan\n",
            "Masukkan objek favorit 2:-Quit\n"
          ]
        }
      ]
    },
    {
      "cell_type": "markdown",
      "source": [
        "Function"
      ],
      "metadata": {
        "id": "PULoI_U_LDvY"
      }
    },
    {
      "cell_type": "code",
      "source": [
        "#creating a function to greet viewers of this video without arguments\n",
        "def greet():\n",
        "   print(\"Hey Astropholes!\")"
      ],
      "metadata": {
        "id": "D4HFj4TTLHLP"
      },
      "execution_count": null,
      "outputs": []
    },
    {
      "cell_type": "code",
      "source": [
        "#fungsi\n",
        "greet()"
      ],
      "metadata": {
        "colab": {
          "base_uri": "https://localhost:8080/"
        },
        "id": "YN56MBR_MqBa",
        "outputId": "1075d94f-0e93-4b25-a9e1-908a6cdf6e34"
      },
      "execution_count": null,
      "outputs": [
        {
          "output_type": "stream",
          "name": "stdout",
          "text": [
            "Hey Astropholes!\n"
          ]
        }
      ]
    },
    {
      "cell_type": "code",
      "source": [
        "#menemukan fungsi di atas\n",
        "def greet_person(name):\n",
        "    print (f\"Hey {name}, I hope you are Enjoying this season and learning alot of python!\")"
      ],
      "metadata": {
        "id": "-Z4Fg0CqNET0"
      },
      "execution_count": null,
      "outputs": []
    },
    {
      "cell_type": "code",
      "source": [
        "#call that function\n",
        "greet_person(\"Rohan\")"
      ],
      "metadata": {
        "colab": {
          "base_uri": "https://localhost:8080/"
        },
        "id": "bBwlwe6ENqho",
        "outputId": "61a31c20-8dbb-4850-b8ab-93ba75199049"
      },
      "execution_count": null,
      "outputs": [
        {
          "output_type": "stream",
          "name": "stdout",
          "text": [
            "Hey Rohan, I hope you are Enjoying this season and learning alot of python!\n"
          ]
        }
      ]
    },
    {
      "cell_type": "code",
      "source": [
        "#postional arguments, keyword argument\n",
        "def greeting(name,msg):\n",
        "   print (f\"Hey {name}, {msg}!\")"
      ],
      "metadata": {
        "id": "E45sKhHNOR7H"
      },
      "execution_count": null,
      "outputs": []
    },
    {
      "cell_type": "code",
      "source": [
        "#call this function by placing\n",
        "greeting(\"Lavanya\", \"Are you an asptrophile\")"
      ],
      "metadata": {
        "id": "xVe5TQBMO4Jc",
        "colab": {
          "base_uri": "https://localhost:8080/"
        },
        "outputId": "7edc3540-cad8-431c-dc13-a97a7160ad1b"
      },
      "execution_count": null,
      "outputs": [
        {
          "output_type": "stream",
          "name": "stdout",
          "text": [
            "Hey Lavanya, Are you an asptrophile!\n"
          ]
        }
      ]
    },
    {
      "cell_type": "code",
      "source": [
        "#call this function by placing\n",
        "greeting(\"Are you an asptrophile?\", \"Lavanya\")"
      ],
      "metadata": {
        "colab": {
          "base_uri": "https://localhost:8080/"
        },
        "id": "f27AM7pkQOad",
        "outputId": "bb8eece7-8f6d-4427-bef6-e35f00bdf178"
      },
      "execution_count": null,
      "outputs": [
        {
          "output_type": "stream",
          "name": "stdout",
          "text": [
            "Hey Are you an asptrophile?, Lavanya!\n"
          ]
        }
      ]
    },
    {
      "cell_type": "code",
      "source": [
        "greeting(msg=\"Are you an asptrophile?\",name=  \"Lavanya\")"
      ],
      "metadata": {
        "id": "BfyDaTzoQlf0",
        "colab": {
          "base_uri": "https://localhost:8080/"
        },
        "outputId": "6add6df8-7cb5-46b5-c84c-fabb39d2e1df"
      },
      "execution_count": null,
      "outputs": [
        {
          "output_type": "stream",
          "name": "stdout",
          "text": [
            "Hey Lavanya, Are you an asptrophile?!\n"
          ]
        }
      ]
    },
    {
      "cell_type": "code",
      "source": [
        "#default arguments\n",
        "def greeting_with_default_args(name, msg ='Welcome to this programs an Astronomy Visualization!'):\n",
        "  print(f'Hey {name}, {msg}')"
      ],
      "metadata": {
        "id": "4r3qx8vQQ9Z1"
      },
      "execution_count": 46,
      "outputs": []
    },
    {
      "cell_type": "code",
      "source": [
        "greeting_with_default_args('Rohan', {msg} )"
      ],
      "metadata": {
        "colab": {
          "base_uri": "https://localhost:8080/",
          "height": 141
        },
        "id": "obdr4w0oRu5F",
        "outputId": "a79f5c72-e885-47db-c4bb-af8421961bbb"
      },
      "execution_count": 56,
      "outputs": [
        {
          "output_type": "error",
          "ename": "NameError",
          "evalue": "name 'msg' is not defined",
          "traceback": [
            "\u001b[0;31m---------------------------------------------------------------------------\u001b[0m",
            "\u001b[0;31mNameError\u001b[0m                                 Traceback (most recent call last)",
            "\u001b[0;32m<ipython-input-56-f70c9dc2707b>\u001b[0m in \u001b[0;36m<cell line: 1>\u001b[0;34m()\u001b[0m\n\u001b[0;32m----> 1\u001b[0;31m \u001b[0mgreeting_with_default_args\u001b[0m\u001b[0;34m(\u001b[0m\u001b[0;34m'Rohan'\u001b[0m\u001b[0;34m,\u001b[0m \u001b[0;34m{\u001b[0m\u001b[0mmsg\u001b[0m\u001b[0;34m}\u001b[0m \u001b[0;34m)\u001b[0m\u001b[0;34m\u001b[0m\u001b[0;34m\u001b[0m\u001b[0m\n\u001b[0m",
            "\u001b[0;31mNameError\u001b[0m: name 'msg' is not defined"
          ]
        }
      ]
    },
    {
      "cell_type": "code",
      "source": [
        "#create a function witl will eithe add, substract, multiply or input numbers\n",
        "def basic_calc(n1, n2, operation):\n",
        "  \"\"\"\n",
        "  Create a basic calculator thar takes n1 dan n2 in the same order and permorms either of:-\n",
        "  -add\n",
        "  -substract\n",
        "  -multiply\n",
        "  -devide\n",
        "\n",
        "  P\n",
        "  \"\"\"\n",
        "\n",
        "\n",
        "  if operation.lower()==\"add\":\n",
        "    return n1+n2\n",
        "  elif operation.lower()== \"substract\":\n",
        "    return n1-n2\n",
        "  elif operation.lower()== \"multiply\":\n",
        "    return n1*n2\n",
        "  elif operation.lower()== \"devide\":\n",
        "    return n1/n2\n",
        "  else:\n",
        "    print(f\"operation input can either take: - add, multiply, subtract or devide. You Gave:- {operation}. try again\")\n",
        "\n",
        ""
      ],
      "metadata": {
        "id": "ScL0t-rWUw-d"
      },
      "execution_count": 58,
      "outputs": []
    },
    {
      "cell_type": "code",
      "source": [
        "addition= basic_calc(2, 3, \"add\")\n",
        "print (addition)"
      ],
      "metadata": {
        "colab": {
          "base_uri": "https://localhost:8080/"
        },
        "id": "8BbYAOBaWjO8",
        "outputId": "2df4823d-cff8-4a22-cdb8-8ea1a7ae7c76"
      },
      "execution_count": 60,
      "outputs": [
        {
          "output_type": "stream",
          "name": "stdout",
          "text": [
            "5\n"
          ]
        }
      ]
    },
    {
      "cell_type": "code",
      "source": [
        "multiply= basic_calc(3, 3, \"multiply\")\n",
        "print (multiply)"
      ],
      "metadata": {
        "colab": {
          "base_uri": "https://localhost:8080/"
        },
        "id": "FTPE07DhWs1Z",
        "outputId": "150c589d-6e70-42ca-c639-8058b0a3ad40"
      },
      "execution_count": 61,
      "outputs": [
        {
          "output_type": "stream",
          "name": "stdout",
          "text": [
            "9\n"
          ]
        }
      ]
    },
    {
      "cell_type": "code",
      "source": [],
      "metadata": {
        "id": "Z_lmPLPFW-ni"
      },
      "execution_count": null,
      "outputs": []
    }
  ]
}